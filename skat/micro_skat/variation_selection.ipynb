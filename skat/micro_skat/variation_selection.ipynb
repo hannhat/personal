{
 "cells": [
  {
   "cell_type": "markdown",
   "metadata": {},
   "source": [
    "Skat is an unbelievably difficult game to develop a winning algorithm for. This is for three main reasons:\n",
    "\n",
    "    1. The game, like many card games, has a massive number of possible combinations of player cards to account for. This makes it very computationally taxing to implement a tree based search algorithm and/or a Bayesian hand prediction model. \n",
    "    2. The existence of the 'skat,' the pile of two face-down cards that the player who wins the rights to play the game, receives at the beginning of the game, and the subsequent card selection process, is extremely difficult to optimize for and model.\n",
    "    3. Finally, and most importantly, the actual bidding process to receive the rights to play the game is very difficult to model and optimize for, especially with a tree based algorithm.\n",
    "\n",
    "Nevertheless, I believe the structure of the game is very interesting and instructive, and I will be trying to implement a tree based search model to solve Skat. To do this, I first want to remove the difficult issues associated with creating an optimal Skat bot and instead solve a simpler sub-problem of my very own creation: Micro-Skat! \n",
    "\n",
    "In Micro-Skat, each player will receive 4 cards instead of the usual 10. Additionally, there will be no skat in the middle that the player who plays the game gets access to. Finally, the player who plays the game will be pre-determined, so there will be no bidding process. This really trivializes the game and makes it extremely simple, but I believe solving this micro-problem could be helpful in approaching the larger game as a whole, especially because there are a number of card selection algorithms that others have come up with that could be integrated with my model. Like in the original game, the team with the majority of the points at the end of the game will win. Finally, variations like Schneider, Grang, and Null will be disregarded for now. \n",
    "\n",
    "Here, we will compare two variations of Micro-Skat and run Monte Carlo simulations to get a sense of the distribution of cards in each variation to determine which variation will be more suitable for us. This will not be a rigorous analysis, and the balance of the game doesn't actually matter a ton here, but it would be nice to choose a game that is at least in the ballpark of balanced. We outline two variations here:\n",
    "\n",
    "    1. Two suite Micro-Skat: The 7 and 8s are removed. There are two suits: red and black.\n",
    "    2. Three suite Micro-Skat: The 7, 8, Q, and 10s are removed. There are three suits: red, black, and gold.\n",
    "\n",
    "In both instances, there will be 12 total cards in the deck, so the basic gameplay patterns will be the same. However, both games will be very different from the original both in terms of the proportion of trumps to non-trumps and in the proportion of jacks to overall cards, both of which should significantly impact overall play. "
   ]
  },
  {
   "cell_type": "code",
   "execution_count": 2,
   "metadata": {},
   "outputs": [],
   "source": [
    "import random\n",
    "import matplotlib.pyplot as plt\n",
    "import numpy as np"
   ]
  },
  {
   "cell_type": "code",
   "execution_count": 3,
   "metadata": {},
   "outputs": [],
   "source": [
    "def derive_hand_stats(hand):\n",
    "    suit_prevalence = {'r' : 0, 'b' : 0, 'g' : 0}\n",
    "    num_jacks = 0\n",
    "    for card in hand:\n",
    "        if card[0] == 'J':\n",
    "            num_jacks += 1\n",
    "        else:\n",
    "            suit_prevalence[card[1]] += 1\n",
    "    return max(suit_prevalence.values()), max(suit_prevalence.values()) + num_jacks\n",
    "\n",
    "def deal_cards():\n",
    "    hands = CARDS\n",
    "    random.shuffle(hands)\n",
    "\n",
    "    hand_lst = [hands[x:x+4] for x in range(0, len(hands), 4)]\n",
    "\n",
    "    max_trumps = []\n",
    "    max_suits = []\n",
    "    for hand in hand_lst:\n",
    "        max_suit, num_trumps = derive_hand_stats(hand)\n",
    "        max_trumps = []\n",
    "        max_trumps.append(num_trumps)\n",
    "        max_suits.append(max_suit)\n",
    "    return max_trumps, max_suits\n",
    "\n",
    "def monte_carlo(iterations):\n",
    "    max_trumps_arr = []\n",
    "    num_max_suit_arr = []\n",
    "    for _ in range(iterations):\n",
    "        max_trumps, num_max_suits = deal_cards()\n",
    "        max_trumps_arr += max_trumps\n",
    "        num_max_suit_arr += num_max_suits\n",
    "    return max_trumps_arr, num_max_suit_arr\n"
   ]
  },
  {
   "cell_type": "markdown",
   "metadata": {},
   "source": [
    "2 Suite Variation of Micro-Skat"
   ]
  },
  {
   "cell_type": "code",
   "execution_count": 4,
   "metadata": {},
   "outputs": [],
   "source": [
    "CARDS = [('9', 'r'), ('10', 'r'), ('J', 'r'), ('Q', 'r'), ('K', 'r'), ('A', 'r'),\n",
    "         ('9', 'b'), ('10', 'b'), ('J', 'b'), ('Q', 'b'), ('K', 'b'), ('A', 'b')]"
   ]
  },
  {
   "cell_type": "code",
   "execution_count": 5,
   "metadata": {},
   "outputs": [],
   "source": [
    "max_trumps_arr, num_max_suit_arr = monte_carlo(100000)"
   ]
  },
  {
   "cell_type": "code",
   "execution_count": 6,
   "metadata": {},
   "outputs": [
    {
     "data": {
      "image/png": "[encoded data removed]",
      "text/plain": [
       "<Figure size 432x288 with 1 Axes>"
      ]
     },
     "metadata": {
      "needs_background": "light"
     },
     "output_type": "display_data"
    }
   ],
   "source": [
    "data = range(11)\n",
    "data = np.array(max_trumps_arr)\n",
    "\n",
    "d = np.diff(np.unique(data)).min()\n",
    "left_of_first_bin = data.min() - float(d)/2\n",
    "right_of_last_bin = data.max() + float(d)/2\n",
    "plt.hist(data, np.arange(left_of_first_bin, right_of_last_bin + d, d), rwidth=0.5)\n",
    "plt.show()"
   ]
  },
  {
   "cell_type": "code",
   "execution_count": 7,
   "metadata": {},
   "outputs": [
    {
     "name": "stdout",
     "output_type": "stream",
     "text": [
      "Average max number of trumps 2.93908\n"
     ]
    }
   ],
   "source": [
    "print('Average max number of trumps', np.mean(max_trumps_arr))"
   ]
  },
  {
   "cell_type": "code",
   "execution_count": 8,
   "metadata": {},
   "outputs": [
    {
     "data": {
      "image/png": "[encoded data removed]",
      "text/plain": [
       "<Figure size 432x288 with 1 Axes>"
      ]
     },
     "metadata": {
      "needs_background": "light"
     },
     "output_type": "display_data"
    }
   ],
   "source": [
    "data2 = range(11)\n",
    "data2 = np.array(num_max_suit_arr)\n",
    "\n",
    "d2 = np.diff(np.unique(data2)).min()\n",
    "left_of_first_bin2 = data2.min() - float(d2)/2\n",
    "right_of_last_bin2 = data2.max() + float(d2)/2\n",
    "plt.hist(data2, np.arange(left_of_first_bin2, right_of_last_bin2 + d2, d2), rwidth=0.5)\n",
    "plt.show()"
   ]
  },
  {
   "cell_type": "code",
   "execution_count": 9,
   "metadata": {},
   "outputs": [
    {
     "name": "stdout",
     "output_type": "stream",
     "text": [
      "Average max suite size 2.270636666666667\n"
     ]
    }
   ],
   "source": [
    "average_max_suit = np.mean(num_max_suit_arr)\n",
    "print('Average max suite size', average_max_suit)"
   ]
  },
  {
   "cell_type": "markdown",
   "metadata": {},
   "source": [
    "3 Suite Variation of Micro-Skat"
   ]
  },
  {
   "cell_type": "code",
   "execution_count": 10,
   "metadata": {},
   "outputs": [],
   "source": [
    "CARDS = [('9', 'r'), ('J', 'r'), ('K', 'r'), ('A', 'r'),\n",
    "         ('9', 'b'), ('J', 'b'), ('K', 'b'), ('A', 'b'),\n",
    "         ('9', 'g'), ('J', 'g'), ('K', 'g'), ('A', 'g')]"
   ]
  },
  {
   "cell_type": "code",
   "execution_count": 11,
   "metadata": {},
   "outputs": [],
   "source": [
    "max_trumps_arr, num_max_suit_arr = monte_carlo(100000)"
   ]
  },
  {
   "cell_type": "code",
   "execution_count": 12,
   "metadata": {},
   "outputs": [
    {
     "data": {
      "image/png": "[encoded data removed]",
      "text/plain": [
       "<Figure size 432x288 with 1 Axes>"
      ]
     },
     "metadata": {
      "needs_background": "light"
     },
     "output_type": "display_data"
    }
   ],
   "source": [
    "data = range(11)\n",
    "data = np.array(max_trumps_arr)\n",
    "\n",
    "d = np.diff(np.unique(data)).min()\n",
    "left_of_first_bin = data.min() - float(d)/2\n",
    "right_of_last_bin = data.max() + float(d)/2\n",
    "plt.hist(data, np.arange(left_of_first_bin, right_of_last_bin + d, d), rwidth=0.5)\n",
    "plt.show()"
   ]
  },
  {
   "cell_type": "code",
   "execution_count": 13,
   "metadata": {},
   "outputs": [
    {
     "name": "stdout",
     "output_type": "stream",
     "text": [
      "Average max number of trumps 2.70877\n"
     ]
    }
   ],
   "source": [
    "print('Average max number of trumps', np.mean(max_trumps_arr))"
   ]
  },
  {
   "cell_type": "code",
   "execution_count": 14,
   "metadata": {},
   "outputs": [
    {
     "data": {
      "image/png": "[encoded data removed]",
      "text/plain": [
       "<Figure size 432x288 with 1 Axes>"
      ]
     },
     "metadata": {
      "needs_background": "light"
     },
     "output_type": "display_data"
    }
   ],
   "source": [
    "data2 = range(11)\n",
    "data2 = np.array(num_max_suit_arr)\n",
    "\n",
    "d2 = np.diff(np.unique(data2)).min()\n",
    "left_of_first_bin2 = data2.min() - float(d2)/2\n",
    "right_of_last_bin2 = data2.max() + float(d2)/2\n",
    "plt.hist(data2, np.arange(left_of_first_bin2, right_of_last_bin2 + d2, d2), rwidth=0.5)\n",
    "plt.show()"
   ]
  },
  {
   "cell_type": "code",
   "execution_count": 15,
   "metadata": {},
   "outputs": [
    {
     "name": "stdout",
     "output_type": "stream",
     "text": [
      "Average max suite size 2.3747533333333335\n"
     ]
    }
   ],
   "source": [
    "average_max_suit = np.mean(num_max_suit_arr) + 2/3\n",
    "print('Average max suite size', average_max_suit)"
   ]
  },
  {
   "cell_type": "markdown",
   "metadata": {},
   "source": [
    "Overall, I believe the play patterns of 2 suite Micro-Skat will be both more similar to the original game and better balanced because of the proportion of trumps each player will have access to. The overall cards in each suit are also more familiar to me than in the 3 suite variation. Therefore, we will continue by looking at the 2 suit variation. "
   ]
  }
 ],
 "metadata": {
  "kernelspec": {
   "display_name": "Python 3.10.8 64-bit (microsoft store)",
   "language": "python",
   "name": "python3"
  },
  "language_info": {
   "codemirror_mode": {
    "name": "ipython",
    "version": 3
   },
   "file_extension": ".py",
   "mimetype": "text/x-python",
   "name": "python",
   "nbconvert_exporter": "python",
   "pygments_lexer": "ipython3",
   "version": "3.10.8"
  },
  "orig_nbformat": 4,
  "vscode": {
   "interpreter": {
    "hash": "855b59dc1fcb7690d6747194f8a8b1cb52f4d4148238cbce6c5d7a29db3ef306"
   }
  }
 },
 "nbformat": 4,
 "nbformat_minor": 2
}

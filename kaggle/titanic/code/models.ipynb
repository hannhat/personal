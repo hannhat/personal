{
 "cells": [
  {
   "cell_type": "code",
   "execution_count": null,
   "metadata": {},
   "outputs": [],
   "source": [
    "import numpy as np\n",
    "import pandas as pd\n",
    "import matplotlib.pyplot as plt\n",
    "import seaborn as sns\n",
    "import os\n",
    "from pathlib import Path\n",
    "\n",
    "abspath = os.path.abspath(os.getcwd())\n",
    "finpath = Path(abspath).resolve().parent\n",
    "parent_path = str(finpath) + '/data/'\n",
    "\n",
    "train_file = parent_path + \"train_mod.csv\"\n",
    "train_data = pd.read_csv(train_file)"
   ]
  },
  {
   "cell_type": "markdown",
   "metadata": {},
   "source": [
    "Baseline model: Only gender taken into account"
   ]
  },
  {
   "cell_type": "code",
   "execution_count": 4,
   "metadata": {},
   "outputs": [
    {
     "name": "stdout",
     "output_type": "stream",
     "text": [
      "Accuracy: 0.7867564534231201\n"
     ]
    }
   ],
   "source": [
    "correct = 0\n",
    "observations = train_data.shape[0]\n",
    "for x in range(observations):\n",
    "    row = train_data.iloc[x]\n",
    "    if row[\"Sex\"] == \"male\":\n",
    "        if row[\"Survived\"] == 0:\n",
    "            correct += 1\n",
    "    elif row[\"Sex\"] == \"female\":\n",
    "        if row[\"Survived\"] == 1:\n",
    "            correct += 1\n",
    "print(\"Accuracy:\", correct / observations)\n"
   ]
  }
 ],
 "metadata": {
  "interpreter": {
   "hash": "855b59dc1fcb7690d6747194f8a8b1cb52f4d4148238cbce6c5d7a29db3ef306"
  },
  "kernelspec": {
   "display_name": "Python 3.10.4 64-bit (windows store)",
   "language": "python",
   "name": "python3"
  },
  "language_info": {
   "codemirror_mode": {
    "name": "ipython",
    "version": 3
   },
   "file_extension": ".py",
   "mimetype": "text/x-python",
   "name": "python",
   "nbconvert_exporter": "python",
   "pygments_lexer": "ipython3",
   "version": "3.10.4"
  },
  "orig_nbformat": 4
 },
 "nbformat": 4,
 "nbformat_minor": 2
}

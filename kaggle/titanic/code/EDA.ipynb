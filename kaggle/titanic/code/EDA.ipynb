{
 "cells": [
  {
   "cell_type": "code",
   "execution_count": 25,
   "metadata": {},
   "outputs": [],
   "source": [
    "import numpy as np\n",
    "import pandas as pd\n",
    "import matplotlib.pyplot as plt\n",
    "import seaborn as sns\n",
    "import os\n",
    "from pathlib import Path\n",
    "\n",
    "abspath = os.path.abspath(os.getcwd())\n",
    "finpath = Path(abspath).resolve().parent\n",
    "parent_path = str(finpath) + '/data/'\n",
    "\n",
    "train_file = parent_path + \"train.csv\"\n",
    "train_data = pd.read_csv(train_file)"
   ]
  },
  {
   "cell_type": "code",
   "execution_count": 3,
   "metadata": {},
   "outputs": [
    {
     "name": "stdout",
     "output_type": "stream",
     "text": [
      "Survived\n",
      "0    549\n",
      "1    342\n",
      "dtype: int64\n",
      "Sex\n",
      "male      577\n",
      "female    314\n",
      "dtype: int64\n",
      "Pclass\n",
      "3    491\n",
      "1    216\n",
      "2    184\n",
      "dtype: int64\n",
      "Embarked\n",
      "S    644\n",
      "C    168\n",
      "Q     77\n",
      "dtype: int64\n",
      "SibSp\n",
      "0    608\n",
      "1    209\n",
      "2     28\n",
      "4     18\n",
      "3     16\n",
      "8      7\n",
      "5      5\n",
      "dtype: int64\n"
     ]
    }
   ],
   "source": [
    "print(train_data.value_counts(\"Survived\"))\n",
    "print(train_data.value_counts(\"Sex\"))\n",
    "print(train_data.value_counts(\"Pclass\"))\n",
    "print(train_data.value_counts(\"Embarked\"))\n",
    "print(train_data.value_counts(\"SibSp\"))"
   ]
  },
  {
   "cell_type": "code",
   "execution_count": 20,
   "metadata": {},
   "outputs": [
    {
     "name": "stdout",
     "output_type": "stream",
     "text": [
      "Sex\n",
      "female    0.742038\n",
      "male      0.188908\n",
      "Name: Survived, dtype: float64\n",
      "Pclass\n",
      "1    0.629630\n",
      "2    0.472826\n",
      "3    0.242363\n",
      "Name: Survived, dtype: float64\n",
      "Embarked\n",
      "C    0.553571\n",
      "Q    0.389610\n",
      "S    0.336957\n",
      "Name: Survived, dtype: float64\n",
      "SibSp\n",
      "0    0.345395\n",
      "1    0.535885\n",
      "2    0.464286\n",
      "3    0.250000\n",
      "4    0.166667\n",
      "5    0.000000\n",
      "8    0.000000\n",
      "Name: Survived, dtype: float64\n"
     ]
    }
   ],
   "source": [
    "print(train_data.groupby(\"Sex\").mean()[\"Survived\"])\n",
    "print(train_data.groupby(\"Pclass\").mean()[\"Survived\"])\n",
    "print(train_data.groupby(\"Embarked\").mean()[\"Survived\"])\n",
    "print(train_data.groupby(\"SibSp\").mean()[\"Survived\"])"
   ]
  },
  {
   "cell_type": "code",
   "execution_count": 58,
   "metadata": {},
   "outputs": [
    {
     "name": "stdout",
     "output_type": "stream",
     "text": [
      "183\n",
      "Missing data count:  708\n",
      "Original survival rate:  0.3838383838383838\n",
      "Survival rate after dropping missing data:  0.6721311475409836\n",
      "Survival rate of those with missing data:  0.3093220338983051\n"
     ]
    }
   ],
   "source": [
    "dropped_data = train_data.dropna(axis=0)\n",
    "nan_count = train_data.shape[0] - dropped_data.shape[0]\n",
    "print('Missing data count: ', nan_count)\n",
    "og_mean_surv = train_data[\"Survived\"].mean()\n",
    "new_mean_surv = dropped_data[\"Survived\"].mean()\n",
    "print('Original survival rate: ', og_mean_surv)\n",
    "print('Survival rate after dropping missing data: ', new_mean_surv)\n",
    "missing_mean_surv = (train_data.shape[0]*og_mean_surv - dropped_data.shape[0]*new_mean_surv) / nan_count\n",
    "print('Survival rate of those with missing data: ', missing_mean_surv)\n"
   ]
  },
  {
   "cell_type": "code",
   "execution_count": 62,
   "metadata": {},
   "outputs": [
    {
     "name": "stdout",
     "output_type": "stream",
     "text": [
      "Missing data count PassengerId: 0\n",
      "Missing data count Survived: 0\n",
      "Missing data count Pclass: 0\n",
      "Missing data count Name: 0\n",
      "Missing data count Sex: 0\n",
      "Missing data count Age: 177\n",
      "Missing data count SibSp: 0\n",
      "Missing data count Parch: 0\n",
      "Missing data count Ticket: 0\n",
      "Missing data count Fare: 0\n",
      "Missing data count Cabin: 687\n",
      "Missing data count Embarked: 2\n"
     ]
    },
    {
     "data": {
      "image/png": "[encoded data removed]",
      "text/plain": [
       "<Figure size 432x288 with 1 Axes>"
      ]
     },
     "metadata": {
      "needs_background": "light"
     },
     "output_type": "display_data"
    }
   ],
   "source": [
    "features = [\"PassengerId\", \"Survived\", \"Pclass\", \"Name\",\n",
    "            \"Sex\", \"Age\", \"SibSp\", \"Parch\", \"Ticket\",\n",
    "            \"Fare\",\"Cabin\",\"Embarked\"]\n",
    "surv_dict = {}\n",
    "\n",
    "for feature in features:\n",
    "    dropped_data = train_data.dropna(subset=feature)\n",
    "    nan_count = train_data.shape[0] - dropped_data.shape[0]\n",
    "    print('Missing data count ' + feature + ':', nan_count)\n",
    "    og_mean_surv = train_data[\"Survived\"].mean()\n",
    "    new_mean_surv = dropped_data[\"Survived\"].mean()\n",
    "    #print('Original survival rate: ', og_mean_surv)\n",
    "    #print('Survival rate after dropping missing data: ', new_mean_surv)\n",
    "    if nan_count > 0:\n",
    "        missing_mean_surv = (train_data.shape[0]*og_mean_surv - dropped_data.shape[0]*new_mean_surv) / nan_count\n",
    "        #print('Survival rate of those with missing data: ', missing_mean_surv)\n",
    "        surv_dict[feature] = missing_mean_surv\n",
    "\n",
    "X = list(surv_dict.keys())\n",
    "y = list(surv_dict.values())\n",
    "\n",
    "plt.bar(range(len(surv_dict)), y, tick_label=X)\n",
    "plt.show()"
   ]
  },
  {
   "cell_type": "code",
   "execution_count": 65,
   "metadata": {},
   "outputs": [
    {
     "name": "stdout",
     "output_type": "stream",
     "text": [
      "Missing data count ['Age']: 177\n",
      "Survival rate after dropping missing data: ['Age']: 0.4061624649859944\n",
      "Survival rate of those with missing data: ['Age']: 0.2937853107344633\n",
      "Missing data count ['Cabin']: 687\n",
      "Survival rate after dropping missing data: ['Cabin']: 0.6666666666666666\n",
      "Survival rate of those with missing data: ['Cabin']: 0.29985443959243085\n",
      "Missing data count ['Age', 'Cabin']: 706\n",
      "Survival rate after dropping missing data: ['Age', 'Cabin']: 0.6756756756756757\n",
      "Survival rate of those with missing data: ['Age', 'Cabin']: 0.3073654390934844\n"
     ]
    }
   ],
   "source": [
    "for x in [[\"Age\"], [\"Cabin\"], [\"Age\",\"Cabin\"]]:\n",
    "    dropped_data = train_data.dropna(subset=x)\n",
    "    nan_count = train_data.shape[0] - dropped_data.shape[0]\n",
    "    print('Missing data count ' + str(x) + ':', nan_count)\n",
    "    og_mean_surv = train_data[\"Survived\"].mean()\n",
    "    new_mean_surv = dropped_data[\"Survived\"].mean()\n",
    "    print('Survival rate after dropping missing data: ' + str(x) + ':', new_mean_surv)\n",
    "    if nan_count > 0:\n",
    "        missing_mean_surv = (train_data.shape[0]*og_mean_surv - dropped_data.shape[0]*new_mean_surv) / nan_count\n",
    "        print('Survival rate of those with missing data: ' + str(x) + ':', missing_mean_surv)"
   ]
  },
  {
   "cell_type": "code",
   "execution_count": 89,
   "metadata": {},
   "outputs": [
    {
     "name": "stdout",
     "output_type": "stream",
     "text": [
      "Data after dropping missing cabins\n",
      "Pclass\n",
      "1    176\n",
      "2     16\n",
      "3     12\n",
      "dtype: int64\n",
      "Pclass\n",
      "1    0.664773\n",
      "2    0.812500\n",
      "3    0.500000\n",
      "Name: Survived, dtype: float64\n",
      "Sex\n",
      "male      107\n",
      "female     97\n",
      "dtype: int64\n",
      "Sex\n",
      "female    0.938144\n",
      "male      0.420561\n",
      "Name: Survived, dtype: float64\n",
      "Data of dropped observations\n",
      "Pclass\n",
      "3    479\n",
      "2    168\n",
      "1     40\n",
      "dtype: int64\n",
      "Pclass\n",
      "1    0.475000\n",
      "2    0.440476\n",
      "3    0.235908\n",
      "Name: Survived, dtype: float64\n",
      "Sex\n",
      "male      470\n",
      "female    217\n",
      "dtype: int64\n",
      "Sex\n",
      "female    0.654378\n",
      "male      0.136170\n",
      "Name: Survived, dtype: float64\n"
     ]
    }
   ],
   "source": [
    "dropped_data = train_data.dropna(subset=[\"Cabin\"])\n",
    "print(\"Data after dropping missing cabins\")\n",
    "print(dropped_data.value_counts(\"Pclass\"))\n",
    "print(dropped_data.groupby(\"Pclass\").mean()[\"Survived\"])\n",
    "print(dropped_data.value_counts(\"Sex\"))\n",
    "print(dropped_data.groupby(\"Sex\").mean()[\"Survived\"])\n",
    "#print(\"Original Data\")\n",
    "#print(train_data.value_counts(\"Pclass\"))\n",
    "#print(train_data.groupby(\"Pclass\").mean()[\"Survived\"])\n",
    "train_data_mod = train_data.fillna(value='NaN')\n",
    "missing_data = train_data_mod[train_data_mod[\"Cabin\"] == 'NaN']\n",
    "print(\"Data of dropped observations\")\n",
    "print(missing_data.value_counts(\"Pclass\"))\n",
    "print(missing_data.groupby(\"Pclass\").mean()[\"Survived\"])\n",
    "print(missing_data.value_counts(\"Sex\"))\n",
    "print(missing_data.groupby(\"Sex\").mean()[\"Survived\"])"
   ]
  },
  {
   "cell_type": "code",
   "execution_count": 49,
   "metadata": {},
   "outputs": [
    {
     "data": {
      "text/plain": [
       "<AxesSubplot:xlabel='Age', ylabel='Count'>"
      ]
     },
     "execution_count": 49,
     "metadata": {},
     "output_type": "execute_result"
    },
    {
     "data": {
      "image/png": "[encoded data removed]",
      "text/plain": [
       "<Figure size 432x288 with 1 Axes>"
      ]
     },
     "metadata": {
      "needs_background": "light"
     },
     "output_type": "display_data"
    }
   ],
   "source": [
    "sns.histplot(train_data[\"Age\"], bins=20)"
   ]
  },
  {
   "cell_type": "code",
   "execution_count": 4,
   "metadata": {},
   "outputs": [
    {
     "name": "stdout",
     "output_type": "stream",
     "text": [
      "[0.625, 0.75, 0.8571428571428571, 0.42857142857142855, 0.2, 0.4, 0.625, 0.43478260869565216, 0.38461538461538464, 0.3, 0.3076923076923077, 0.43478260869565216, 0.2857142857142857, 0.4186046511627907, 0.3829787234042553, 0.4594594594594595, 0.40625, 0.5365853658536586, 0.3333333333333333, 0.4074074074074074, 0.38095238095238093, 0.2857142857142857, 0.29411764705882354, 0.3888888888888889, 0.5625, 0.38461538461538464, 0.4444444444444444, 0.42857142857142855, 0.42857142857142855, 0.3333333333333333, 0.2857142857142857, 0.5, 0.0, nan, 0.0, 0.0, 0.0, nan, nan, 1.0]\n"
     ]
    },
    {
     "data": {
      "text/plain": [
       "[<matplotlib.lines.Line2D at 0x21b3e3fe830>]"
      ]
     },
     "execution_count": 4,
     "metadata": {},
     "output_type": "execute_result"
    },
    {
     "data": {
      "image/png": "[encoded data removed]",
      "text/plain": [
       "<Figure size 432x288 with 1 Axes>"
      ]
     },
     "metadata": {
      "needs_background": "light"
     },
     "output_type": "display_data"
    }
   ],
   "source": [
    "survival_lst = []\n",
    "max_age = train_data[\"Age\"].max()\n",
    "bin_size = 2\n",
    "urange = int(max_age // bin_size)\n",
    "for x in range(urange):\n",
    "    ub = (x + 1)*bin_size\n",
    "    lb = x*bin_size\n",
    "    survival_rate = train_data[(train_data[\"Age\"] <= ub) & (train_data[\"Age\"] > lb)][\"Survived\"].mean()\n",
    "    survival_lst.append(survival_rate)\n",
    "print(survival_lst)\n",
    "plt.plot(survival_lst)"
   ]
  },
  {
   "cell_type": "markdown",
   "metadata": {},
   "source": [
    "It seems clear now that whether someone has missing cabin data or not will play a large role in their potential to survive. Therefore, we will create a new column that indicates whether someone is missing cabin data or not within our dataframe and write it to our csvs. "
   ]
  },
  {
   "cell_type": "code",
   "execution_count": 22,
   "metadata": {},
   "outputs": [
    {
     "name": "stdout",
     "output_type": "stream",
     "text": [
      "Missing Data\n",
      "1    687\n",
      "0    204\n",
      "dtype: int64\n"
     ]
    }
   ],
   "source": [
    "test_file = parent_path + \"test.csv\"\n",
    "test_data = pd.read_csv(test_file)\n",
    "\n",
    "train_data_mod = train_data.fillna(value='NaN')\n",
    "miss_lst = []\n",
    "for x in range(train_data_mod.shape[0]):\n",
    "    if train_data_mod.iloc[x][\"Cabin\"] == \"NaN\":\n",
    "        miss_lst.append(1)\n",
    "    else:\n",
    "        miss_lst.append(0)\n",
    "train_data_mod[\"Missing Data\"] = miss_lst\n",
    "print(train_data_mod.value_counts(\"Missing Data\"))"
   ]
  },
  {
   "cell_type": "code",
   "execution_count": 23,
   "metadata": {},
   "outputs": [],
   "source": [
    "train_data_mod = train_data_mod.set_index('PassengerId')"
   ]
  },
  {
   "cell_type": "code",
   "execution_count": 26,
   "metadata": {},
   "outputs": [],
   "source": [
    "output_path = parent_path + \"train_mod.csv\"\n",
    "train_data_mod.to_csv(output_path, index_label=False)"
   ]
  }
 ],
 "metadata": {
  "interpreter": {
   "hash": "855b59dc1fcb7690d6747194f8a8b1cb52f4d4148238cbce6c5d7a29db3ef306"
  },
  "kernelspec": {
   "display_name": "Python 3.10.4 64-bit (windows store)",
   "language": "python",
   "name": "python3"
  },
  "language_info": {
   "codemirror_mode": {
    "name": "ipython",
    "version": 3
   },
   "file_extension": ".py",
   "mimetype": "text/x-python",
   "name": "python",
   "nbconvert_exporter": "python",
   "pygments_lexer": "ipython3",
   "version": "3.10.4"
  },
  "orig_nbformat": 4
 },
 "nbformat": 4,
 "nbformat_minor": 2
}

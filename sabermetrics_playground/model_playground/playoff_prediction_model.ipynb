{
 "cells": [
  {
   "cell_type": "markdown",
   "metadata": {},
   "source": [
    "*The following notebook walks through the beginning stages of my development of a model for predicting the outcomes of an MLB playoff bracket. While this project is likely slightly different from many other writing samples you receive, baseball sabermetrics -- the systematic study of baseball statistics -- has been a longstanding passion of mine, and I believe this notebook highlights many of the very interesting statistical problems encountered when attempting to build a predictive model. I believe there are several aspects of playoff baseball modelling that make it a unique challenge for an aspiring forecaster as opposed to a typical prediction problem. The two most interesting problems at play here are that the structure of the prediction problem makes simpler techniques like linear regression not a good choice to tackle this problem and that the process of model evaluation in the context of building a playoff model is vacuous and complex -- I struggle with both of these issues over the course of this notebook. This notebook attempts to develop a simple playoff model based on team regular season win-loss record and trains on many years of historical playoff data.*"
   ]
  },
  {
   "cell_type": "markdown",
   "metadata": {},
   "source": [
    "This notebook walks through the process of attempting to build as advanced an MLB playoff predictive model as possible using only team statistics. Though this approach is likely inferior to a more sophisticated model built on the microfoundations of individual player data, it will hopefully both serve as a strong baseline model to compare future models to and be a nice way to practice iterating on a very simple baseline playoff model to add complexity and hopefully improve model performance. "
   ]
  },
  {
   "cell_type": "code",
   "execution_count": 474,
   "metadata": {},
   "outputs": [],
   "source": [
    "import numpy as np\n",
    "import os\n",
    "from pathlib import Path\n",
    "import pandas as pd\n",
    "import scipy.stats as stats\n",
    "import seaborn as sns\n",
    "import matplotlib.pyplot as plt\n",
    "from pybaseball import standings, team_results\n",
    "from pybaseball import team_batting\n",
    "from pybaseball import team_pitching\n",
    "from pybaseball import retrosheet\n",
    "\n",
    "import warnings\n",
    "warnings.simplefilter(action='ignore', category=FutureWarning)\n",
    "\n",
    "abspath = os.path.abspath(os.getcwd())\n",
    "finpath = Path(abspath).resolve().parent.parent"
   ]
  },
  {
   "cell_type": "markdown",
   "metadata": {},
   "source": [
    "Our first task is to build a database of playoff bracket results from 1970 to the present for the purposes of model evaluation. To accomplish this, we utilize the pybaseball library's retrosheet API, which fetches data from the retrosheet website's historical playoff game logs. Note that we do not include the more recent wild card games, which were introduced in 2012, because we worry that the single game nature of these games, as opposed to the longer 5 and 7 game series we see otherwise, would skew our results. Therefore, we just consider the winner of the wild card games as belonging to the playoff bracket. "
   ]
  },
  {
   "cell_type": "code",
   "execution_count": 475,
   "metadata": {},
   "outputs": [],
   "source": [
    "world_series = retrosheet.world_series_logs()\n",
    "world_series[\"year\"] = [int(''.join(list(str(x))[:4])) for x in world_series[\"date\"]]\n",
    "ws_modern = world_series[world_series[\"year\"] >= 1970]\n",
    "ws_modern = ws_modern[[\"year\", \"home_team\", \"visiting_team\", \"visiting_team_game_num\", \"visiting_score\", \"home_score\"]]\n",
    "winners = ws_modern.loc[ws_modern.groupby(\"year\")[\"visiting_team_game_num\"].idxmax()] \n",
    "winners[\"Won WS\"] = np.where(winners[\"home_score\"] > winners[\"visiting_score\"], winners[\"home_team\"], winners[\"visiting_team\"])\n",
    "winners[\"Lost in WS\"] = np.where(winners[\"home_score\"] > winners[\"visiting_score\"], winners[\"visiting_team\"], winners[\"home_team\"])\n",
    "winners[\"Won WS\"] = winners[\"Won WS\"].apply(lambda x : [x])\n",
    "winners[\"Lost in WS\"] = winners[\"Lost in WS\"].apply(lambda x : [x])\n",
    "winners = winners[[\"year\", \"Won WS\", \"Lost in WS\"]]\n",
    "winners = winners.set_index(\"year\")\n",
    "playoff_bracket = winners.to_dict('index')\n"
   ]
  },
  {
   "cell_type": "code",
   "execution_count": 476,
   "metadata": {},
   "outputs": [],
   "source": [
    "lcs = retrosheet.lcs_logs()\n",
    "lcs[\"year\"] = [int(''.join(list(str(x))[:4])) for x in lcs[\"date\"]]\n",
    "lcs_modern = lcs[lcs[\"year\"] >= 1970]\n",
    "lcs_modern = lcs_modern[[\"year\", \"home_team\", \"visiting_team\", \"visiting_team_game_num\",\n",
    "                         \"visiting_score\", \"home_score\", \"visiting_team_league\"]]\n",
    "winners = lcs_modern.loc[lcs_modern.groupby([\"year\", \"visiting_team_league\"])[\"visiting_team_game_num\"].idxmax()] \n",
    "winners[\"Lost in LCS\"] = np.where(winners[\"home_score\"] > winners[\"visiting_score\"], winners[\"visiting_team\"], winners[\"home_team\"])\n",
    "winners = winners[[\"year\", \"Lost in LCS\", \"visiting_team_league\"]]\n",
    "\n",
    "for x in winners.itertuples():\n",
    "    if \"Lost in LCS\" not in playoff_bracket[x[1]]:\n",
    "        playoff_bracket[x[1]][\"Lost in LCS\"] = [x[-2]]\n",
    "    else:\n",
    "        playoff_bracket[x[1]][\"Lost in LCS\"].append(x[-2])"
   ]
  },
  {
   "cell_type": "code",
   "execution_count": 477,
   "metadata": {},
   "outputs": [],
   "source": [
    "ds = retrosheet.division_series_logs()\n",
    "ds[\"year\"] = [int(''.join(list(str(x))[:4])) for x in ds[\"date\"]]\n",
    "ds_modern = ds[ds[\"year\"] >= 1970]\n",
    "ds_modern['teams'] = ds_modern[['home_team', 'visiting_team']].apply(lambda x: tuple(sorted(','.join(x).split(','))), axis=1)\n",
    "ds_modern = ds_modern[[\"year\", \"home_team\", \"visiting_team\", \"visiting_team_game_num\",\n",
    "                         \"visiting_score\", \"home_score\", \"visiting_team_league\", \"teams\"]]\n",
    "winners = ds_modern.loc[ds_modern.groupby([\"year\", \"visiting_team_league\", \"teams\"])[\"visiting_team_game_num\"].idxmax()]\n",
    "winners[\"Lost in DS\"] = np.where(winners[\"home_score\"] > winners[\"visiting_score\"], winners[\"visiting_team\"], winners[\"home_team\"])\n",
    "winners = winners[[\"year\", \"Lost in DS\", \"visiting_team_league\"]]\n",
    "\n",
    "for x in winners.itertuples():\n",
    "    if \"Lost in DS\" not in playoff_bracket[x[1]]:\n",
    "        playoff_bracket[x[1]][\"Lost in DS\"] = [x[-2]]\n",
    "    else:\n",
    "        playoff_bracket[x[1]][\"Lost in DS\"].append(x[-2])\n"
   ]
  },
  {
   "cell_type": "code",
   "execution_count": 479,
   "metadata": {},
   "outputs": [],
   "source": [
    "def get_playoff_teams(playoff_bracket):\n",
    "    playoff_teams = {}\n",
    "    for year in playoff_bracket:\n",
    "        teams = []\n",
    "        for x in playoff_bracket[year]:\n",
    "            teams += playoff_bracket[year][x]\n",
    "        playoff_teams[year] = teams\n",
    "    return playoff_teams"
   ]
  },
  {
   "cell_type": "code",
   "execution_count": 480,
   "metadata": {},
   "outputs": [],
   "source": [
    "playoff_teams = get_playoff_teams(playoff_bracket)"
   ]
  },
  {
   "cell_type": "markdown",
   "metadata": {},
   "source": [
    "Next, to build our predictive model, we want to collect some data about the teams in each playoff bracket from 1970 to the present. Because this is going to be our first iteration of our playoff model -- a kind of baseline for the rest of our analysis -- we will only be collecting each team's winning percentage as of now. In the future, we would hope to add more features for each team to make playoff predictions on. These features could include factors like run differential, winning percentage against winning teams, the stats of the team's two best starting pitchers, and more. We will then store all this data in a dictionary so that we can run our models. We utilize a previously written function in our utils python file to make it easier to scrape the standings and store the data in the structure we need. "
   ]
  },
  {
   "cell_type": "code",
   "execution_count": 481,
   "metadata": {},
   "outputs": [],
   "source": [
    "import utils"
   ]
  },
  {
   "cell_type": "code",
   "execution_count": 482,
   "metadata": {},
   "outputs": [],
   "source": [
    "utils.write_simple_standings_to_df(1970, 2019, str(finpath) + '/sabermetrics_playground/storage/team_data.csv')"
   ]
  },
  {
   "cell_type": "code",
   "execution_count": 483,
   "metadata": {},
   "outputs": [],
   "source": [
    "team_data = pd.read_csv(str(finpath) + '/sabermetrics_playground/storage/team_data.csv')"
   ]
  },
  {
   "cell_type": "code",
   "execution_count": 484,
   "metadata": {},
   "outputs": [],
   "source": [
    "team_data['index'] = list(zip(team_data[\"Year\"], team_data[\"Tm\"]))\n",
    "team_data = team_data[[\"index\", \"W-L%\"]]\n",
    "team_data = team_data.set_index('index')\n",
    "team_dict = team_data.to_dict()[\"W-L%\"]"
   ]
  },
  {
   "cell_type": "code",
   "execution_count": 485,
   "metadata": {},
   "outputs": [],
   "source": [
    "import json"
   ]
  },
  {
   "cell_type": "code",
   "execution_count": 486,
   "metadata": {},
   "outputs": [],
   "source": [
    "with open(str(finpath) + '/sabermetrics_playground/storage/rs_team_mapping.json', 'r') as infile:\n",
    "    symbol_dict = json.load(infile)"
   ]
  },
  {
   "cell_type": "markdown",
   "metadata": {},
   "source": [
    "The final piece of infrastructure we need to set up before we can iterate through interesting models and score them relative to historical results is a process by which our theoretical model will make predictions. The nature of prediction in this problem is unique and meaningfully different from other prediction problems where we could potentially use conventional regression techniques. \n",
    "\n",
    "If we were interested in predicting only World Series outcomes between two teams, for example, we could imagine that, taking two teams' winning percentages, or perhaps the difference between their winning percentages, as an input, we could simply look at historical outcomes of World Series games and run linear regression to derive a relationship between the difference in two teams' winning percentages and each of their chances to win the World Series. However, the problem we wish to tackle is significantly more complex. Our aim is to produce a model that gives the odds each team in a playoff bracket has to achieve one of potentially many different outcomes, from a World Series to a first round exit. Thus, we have a problem where we are interested in generating, and evaluating, multiple outputs, from multiple inputs. In the case where we are generating a model from only team winning percentages, in a year in which 8 teams make the playoffs, we need to construct a model that takes in 8 inputs -- team winning percentages -- and 32 outputs -- probabilities for each team that they achieve each of four potential outcomes. \n",
    "\n",
    "It thus becomes clear that simple linear regression is not well equipped to solve this problem. I thought of two potential solutions to this problem, each of which I will briefly outline below:\n",
    "\n",
    "1. The optimization approach\n",
    "\n",
    "    The first approach we could take is to write an enormous regression formula that we could then theoretically optimize to minimize the mean squared error. Despite the complexity of the problem at hand, this is still theoretically possible. If we define each team's odds to defeat another team in a series with the formula\n",
    "\n",
    "    $\\text{Odds of winning series} = 0.5 + \\beta * \\text{Team winning percentage - Opponent winning percentage}$\n",
    "\n",
    "    Then we can still potentially recover a theoretically convex overall function that takes 8 team winning percentages as an input and gives 32 outputs. As a (relatively) simple example, let's look at the formula under this construction that would give a team's odds of losing in the championship game (the second round of the playoffs):\n",
    "\n",
    "    $\\text{Odds of losing in LCS} = \\text{Odds of winning first round series} * \\sum{opponents}\\text{[Odds of winning series vs potential opponent]} * \\text{[Odds of potential opponent winning their first round series]}$\n",
    "\n",
    "    Even this simple example is quite confusing. It is theoretically possible to compute each team's first round winning odds, then using those odds to compute each team's second round winning odds, and so forth until the odds computed for a given beta parameter are found for all teams and all potential outcomes. However, this approach is extremely computationally expensive and confusing, especially because this would then need to combined with the MSE formula to find an optimal beta. Additionally, is MSE even the metric we necessarily care about optimizing for? How do we determine the correct evaluation metric to use for a problem such as playoff prediction? More on this later.\n",
    "\n",
    "    Additionally, there is an issue here in that there are a differing number of games in various playoff rounds in the MLB. In the division series, teams play a best-of-5, while in the LCS and World Series, teams play a best-of-7. This means that the same two teams playing in the division series as opposed to the league championship series would have different odds of winning each series because playing more games, as in the LCS, would give stronger odds of advancing to the better team.\n",
    "\n",
    "    Overall, while it seems theoretically possible to perform an extremely complicated convex optimization process to recover a relationshi between winning percentage and team playoff outcomes to generate a playoff model, there are a number of computational and theoretical hurdles that make this pursuit not ideal, which brings us to...\n",
    "\n",
    "2. Monte Carlo simulation\n",
    "\n",
    "    A far easier and more flexible solution is to simulate each individual game according to a formula that takes in information about each team and outputs a win probability for that game for each team. These games can then be aggregate to simulate series, which can be aggregated to simulate entire playoff brackets. We then utilize Monte Carlo simulations to run 10000 simulations of each year's playoffs and log the number of times each team attains a particular outcome (wins World Series, loses World Series, loses in first round, etc). Finally, we compare the proportion each team attains each outcome to what actually happened in the real historical playoffs and, according to a cost function that will be discussed later (and it will be discussed extensively as it's an extremely interesting problem), a model's accuracy will then be evaluated. At first, we will attempt to use the simple winning percentage formula described above to uncover a beta coefficient that best describes the relationship between winning percentage and the distribution of playoff outcomes. To execute this strategy, we needed to create tournament class that would perform all the functionality I described above in simulating a playoff bracket, and I then coded up functions that would run the Monte Carlo simulations and score each playoff model, each with a different beta coefficient, to find the \"best\" beta coefficient for a given model. Here, we use the following evaluation model:\n",
    "\n",
    "    Error = $\\sum_{teams}\\sum_{outcomes}\\text{(Distance from Outcome)}*|\\text{Actual Outcome - Projected Outcome}|$\n",
    "\n",
    "    Here, the actual and projected outcomes are represented by arrays of length equal to the number of possible outcomes a team can have in the playoffs (World Series win, World Series Loss, ALCS loss, etc.). The actual outcomes array is an array of zeroes and a single value of one, which corresponds to the team's ultimate bracket placement. For example, in the 2021 playoff format, since the Braves avoided the Wild Card round, their array would be represented as [Lost in NLDS, Lost in NLCS, Lost in WS, Won WS] = [0,0,0,1]. The projected outcomes array is in the same format as the actual outcomes array, but gives the percentage of time a team ended up with the placement corresponding to the array index as an input for each index. For example, the Braves' 2021 projected outcomes array might have looked something like [45, 22, 9, 4]. \n",
    "\n",
    "    The distance from an outcome is defined as the number of 'steps' away from the actual outcome the projected outcome was. For example, if the Tigers were projected to win the World Series but actually lost in the ALCS, the distance between these outcomes would be 2, but if they lost in the World Series, the distance would be 1. \n",
    "\n",
    "    To compute the total error (our evaluation of 'how good' the model is), we sum over the error we compute for every single year of the playoffs. Our models make predictions for each year of the playoffs on record -- every year after 1970 except for the strike shortened 1994 season -- and those predictions are compared to the actual results, and the sum of those error is our total error. \n",
    "\n",
    "    Luckily, the Monte Carlo simulations are extremely fast -- simulating 10000 playoff brackets takes just over 13 seconds, meaning that we can use grid search to find the model that performs best according to the evaluation function. The code for all these operations is provided below. "
   ]
  },
  {
   "cell_type": "code",
   "execution_count": 487,
   "metadata": {},
   "outputs": [],
   "source": [
    "class Tournament():\n",
    "    '''\n",
    "    '''\n",
    "    def __init__(self, teams_lst, rounds={\"DS\" : 5, \"LCS\" : 7, \"WS\" : 7}):\n",
    "        self.teams_lst = teams_lst\n",
    "        self.placing_dict = {}\n",
    "        self.rounds = rounds\n",
    "\n",
    "    def simulate_series(self, teams, function, year, num_games):\n",
    "        team1_wins = 0\n",
    "        team2_wins = 0\n",
    "        while (team1_wins < num_games / 2) and (team2_wins < num_games / 2):\n",
    "            winner = function(*teams, year)\n",
    "            if winner == teams[0]:\n",
    "                team1_wins += 1\n",
    "            else:\n",
    "                team2_wins += 1\n",
    "        if team1_wins > team2_wins:\n",
    "            return teams[0], teams[1]\n",
    "        else:\n",
    "            return teams[1], teams[0]\n",
    "\n",
    "    def simulate_round(self, teams_lst, function, year, round):\n",
    "        winners = []\n",
    "        losers = []\n",
    "        teams = []\n",
    "        for team in teams_lst:\n",
    "            teams.append(team)\n",
    "            if len(teams) == 2:\n",
    "                winner, loser = self.simulate_series(teams, function, year, self.rounds[round])\n",
    "                winners.append(winner)\n",
    "                losers.append(loser)\n",
    "                teams = []\n",
    "        return winners, losers\n",
    "\n",
    "    def simulate_playoffs(self, function, year):\n",
    "        if len(self.teams_lst) == 8:\n",
    "            round = 'DS'\n",
    "        elif len(self.teams_lst) == 4:\n",
    "            round = 'LCS'\n",
    "        elif len(self.teams_lst) == 2:\n",
    "            round = 'WS'\n",
    "        teams_remaining = self.teams_lst\n",
    "        while len(teams_remaining) > 1:\n",
    "            winners, losers = self.simulate_round(teams_remaining, function, year, round)\n",
    "            self.placing_dict[\"Lost in \" + round] = losers\n",
    "            if len(teams_remaining) == 2:\n",
    "                self.placing_dict[\"Won WS\"] = winners\n",
    "            teams_remaining = winners\n",
    "            if len(teams_remaining) == 8:\n",
    "                round = 'DS'\n",
    "            elif len(teams_remaining) == 4:\n",
    "                round = 'LCS'\n",
    "            elif len(teams_remaining) == 2:\n",
    "                round = 'WS'"
   ]
  },
  {
   "cell_type": "code",
   "execution_count": 488,
   "metadata": {},
   "outputs": [],
   "source": [
    "import random"
   ]
  },
  {
   "cell_type": "code",
   "execution_count": 489,
   "metadata": {},
   "outputs": [],
   "source": [
    "def simple_win_percent_model(team1, team2, year):\n",
    "    p1 = .5 + team_dict[(year, symbol_dict[team1])] - team_dict[(year, symbol_dict[team2])]\n",
    "    rand_num = random.random()\n",
    "    if rand_num > p1:\n",
    "        return team2\n",
    "    else:\n",
    "        return team1"
   ]
  },
  {
   "cell_type": "code",
   "execution_count": 490,
   "metadata": {},
   "outputs": [],
   "source": [
    "def create_placing_dict(master_dict, year, playoff_teams):\n",
    "    master_dict[year] = {}\n",
    "    for team in playoff_teams[year]:\n",
    "        if len(playoff_teams[year]) == 8:\n",
    "            master_dict[year][team] = {\"Lost in DS\" : 0, \"Lost in LCS\" : 0,\n",
    "                                         \"Lost in WS\" : 0, \"Won WS\" : 0}\n",
    "        elif len(playoff_teams[year]) == 4:\n",
    "            master_dict[year][team] = {\"Lost in LCS\" : 0, \"Lost in WS\" : 0,\n",
    "                                         \"Won WS\" : 0}\n",
    "    return master_dict\n",
    "\n",
    "def update_placing_dict(master_dict, placing_dict, year, trials):\n",
    "    for placing, teams in placing_dict.items():\n",
    "        for team in teams:\n",
    "            master_dict[year][team][placing] += 1 / trials\n",
    "    return master_dict"
   ]
  },
  {
   "cell_type": "code",
   "execution_count": 586,
   "metadata": {},
   "outputs": [],
   "source": [
    "def playoff_sim(trials, func, year_start=1970, year_end=2019):\n",
    "    master_dict = {}\n",
    "    count = 0\n",
    "    for _ in range(trials):\n",
    "        for year in range(year_start, year_end + 1):\n",
    "            if year != 1994:\n",
    "                teams_lst = playoff_teams[year]\n",
    "                bracket = Tournament(teams_lst)\n",
    "                bracket.simulate_playoffs(func, year)\n",
    "                if count == 0:\n",
    "                    master_dict = create_placing_dict(master_dict, year, playoff_teams)\n",
    "                master_dict = update_placing_dict(master_dict, bracket.placing_dict, year, trials)\n",
    "        if count == 0:\n",
    "            count = 1\n",
    "    return master_dict\n",
    "\n",
    "def score_simulation(master_dict, playoff_bracket, year_start=1970, year_end=2019, cost=1):\n",
    "    scores = []\n",
    "    outcomes_dict = {\"Lost in DS\" : 1, \"Lost in LCS\" : 2, \"Lost in WS\" : 3, \"Won WS\" : 4}\n",
    "    results_dict = {}\n",
    "    for year in range(year_start, year_end + 1):\n",
    "        if year != 1994:\n",
    "            score = 0\n",
    "            results_dict = create_placing_dict(results_dict, year, playoff_teams)\n",
    "            results_dict = update_placing_dict(results_dict, playoff_bracket[year], year, 1)\n",
    "            for team in master_dict[year]:\n",
    "                projections = master_dict[year][team]\n",
    "                results = results_dict[year][team]\n",
    "                outcome = list(results.keys())[list(results.values()).index(1)]\n",
    "                for key in projections:\n",
    "                    multiplier = np.abs(outcomes_dict[key] - outcomes_dict[outcome])\n",
    "                    score += multiplier * (projections[key] ** cost)\n",
    "            scores.append(score)\n",
    "    return np.array(scores), np.sum(np.array(scores))"
   ]
  },
  {
   "cell_type": "markdown",
   "metadata": {},
   "source": [
    "Let's begin simply by assuming a beta coefficient of 1, meaning that a better team's winning percentage in a game will be equal to 0.5 plus the difference in the two teams' winning percentages. "
   ]
  },
  {
   "cell_type": "code",
   "execution_count": 530,
   "metadata": {},
   "outputs": [],
   "source": [
    "projections_dict = playoff_sim(10000, simple_win_percent_model)\n",
    "yearly_errors, total_error = score_simulation(projections_dict, playoff_bracket)"
   ]
  },
  {
   "cell_type": "code",
   "execution_count": 545,
   "metadata": {},
   "outputs": [
    {
     "name": "stdout",
     "output_type": "stream",
     "text": [
      "Mean of yearly errors: 6.229555102040543\n",
      "Standard Deviation of yearly errors: 2.614330396266118\n",
      "Total error score: 305.2481999999866\n"
     ]
    }
   ],
   "source": [
    "print(\"Mean of yearly errors:\", yearly_errors.mean())\n",
    "print(\"Standard Deviation of yearly errors:\", yearly_errors.std())\n",
    "print(\"Total error score:\", total_error)"
   ]
  },
  {
   "cell_type": "markdown",
   "metadata": {},
   "source": [
    "Interesting. However, we can't contextualize how well our model performed unless we have a baseline model to compare it against. As a baseline, let's use the simplest model I could think of: in every round, the better team will always advance. Note that this is almost equivalent to setting an extremely high beta coefficient. "
   ]
  },
  {
   "cell_type": "code",
   "execution_count": 579,
   "metadata": {},
   "outputs": [],
   "source": [
    "def better_team_wins_model(team1, team2, year):\n",
    "    team1_win_percent = team_dict[(year, symbol_dict[team1])] \n",
    "    team2_win_percent = team_dict[(year, symbol_dict[team2])]\n",
    "    if team1_win_percent >= team2_win_percent:\n",
    "        return team1\n",
    "    else:\n",
    "        return team2"
   ]
  },
  {
   "cell_type": "code",
   "execution_count": 568,
   "metadata": {},
   "outputs": [],
   "source": [
    "baseline_projections_dict = playoff_sim(10000, better_team_wins_model)\n",
    "baseline_yearly_errors, baseline_total_error = score_simulation(baseline_projections_dict, playoff_bracket)"
   ]
  },
  {
   "cell_type": "code",
   "execution_count": 569,
   "metadata": {},
   "outputs": [
    {
     "name": "stdout",
     "output_type": "stream",
     "text": [
      "Mean of yearly errors: 5.999999999999438\n",
      "Standard Deviation of yearly errors: 2.770102775666214\n",
      "Total error score: 293.99999999997243\n"
     ]
    }
   ],
   "source": [
    "print(\"Mean of yearly errors:\", baseline_yearly_errors.mean())\n",
    "print(\"Standard Deviation of yearly errors:\", baseline_yearly_errors.std())\n",
    "print(\"Total error score:\", baseline_total_error)"
   ]
  },
  {
   "cell_type": "markdown",
   "metadata": {},
   "source": [
    "Well that's not very good. It appears that our model fails to outperform the simplest model I could think of. Let's try the grid search I mentioned above and plot the total error scores for each beta coefficient, where the x axis represents candidate beta coefficient values and the y axis represents error scores:"
   ]
  },
  {
   "cell_type": "code",
   "execution_count": 560,
   "metadata": {},
   "outputs": [],
   "source": [
    "def modified_simple_win_percent_model(team1, team2, year):\n",
    "    p1 = .5 + coef * (team_dict[(year, symbol_dict[team1])] - team_dict[(year, symbol_dict[team2])])\n",
    "    rand_num = random.random()\n",
    "    if rand_num > p1:\n",
    "        return team2\n",
    "    else:\n",
    "        return team1"
   ]
  },
  {
   "cell_type": "code",
   "execution_count": 578,
   "metadata": {},
   "outputs": [
    {
     "data": {
      "text/plain": [
       "[<matplotlib.lines.Line2D at 0x1d14d3cc550>]"
      ]
     },
     "execution_count": 578,
     "metadata": {},
     "output_type": "execute_result"
    },
    {
     "data": {
      "image/png": "[encoded data removed]",
      "text/plain": [
       "<Figure size 432x288 with 1 Axes>"
      ]
     },
     "metadata": {
      "needs_background": "light"
     },
     "output_type": "display_data"
    }
   ],
   "source": [
    "possible_coefs = np.linspace(0, 20, 11)\n",
    "\n",
    "errors = []\n",
    "for coef in possible_coefs:\n",
    "    projections_dict = playoff_sim(10000, modified_simple_win_percent_model)\n",
    "    yearly_errors, total_error = score_simulation(projections_dict, playoff_bracket)\n",
    "    errors.append(total_error)\n",
    "\n",
    "plt.plot(possible_coefs, errors)"
   ]
  },
  {
   "cell_type": "markdown",
   "metadata": {},
   "source": [
    "Hmm. It appears that no beta coefficient outperforms the baseline model. What to do? "
   ]
  },
  {
   "cell_type": "markdown",
   "metadata": {},
   "source": [
    "It was at this point that I realized what my issue was: my evaluation function. Depending on the evaluation function I use, certain distributions of predicted outcomes for team placements are rewarded more or less. Using the evaluation function I had been using up until this point, it is actually very natural that my model would never be able to outperform my simple baseline model. This is because my model overly rewards narrow distributions of predicted outcomes over wider, more conservative distributions of predictions. The baseline model can be seen as giving the most extreme narrow distribution of outcomes. The way the baseline model works is that it makes the best possible predictions if one had to choose one World Series winner, one World series loser, and so on because if one knew only team winning percentages and had to predict a World Series winner, it would be natural to pick the team with the highest winning percentage. We can modify how much the evaluation function punishes overconfidence in predictions by adding a cost exponent:\n",
    "\n",
    "Error = $\\sum_{teams}\\sum_{outcomes}\\text{(Distance from Outcome)}*|\\text{Actual Outcome - Projected Outcome}|^{\\text{cost}}$\n",
    "\n",
    "Varying this exponent will vary how much the evaluation function punishes overconfidence in a given model's predictions. Higher values for the cost will favor conservative playoff predictions. To see how this works, look below at what happens when we set a cost parameter of 2:"
   ]
  },
  {
   "cell_type": "code",
   "execution_count": 587,
   "metadata": {},
   "outputs": [],
   "source": [
    "baseline_projections_dict = playoff_sim(1, better_team_wins_model)\n",
    "baseline_yearly_errors, baseline_total_error = score_simulation(baseline_projections_dict, playoff_bracket, cost=2)"
   ]
  },
  {
   "cell_type": "code",
   "execution_count": 588,
   "metadata": {},
   "outputs": [
    {
     "name": "stdout",
     "output_type": "stream",
     "text": [
      "Mean of yearly errors: 6.0\n",
      "Standard Deviation of yearly errors: 2.770102775666474\n",
      "Total error score: 294.0\n"
     ]
    }
   ],
   "source": [
    "print(\"Mean of yearly errors:\", baseline_yearly_errors.mean())\n",
    "print(\"Standard Deviation of yearly errors:\", baseline_yearly_errors.std())\n",
    "print(\"Total error score:\", baseline_total_error)"
   ]
  },
  {
   "cell_type": "code",
   "execution_count": 592,
   "metadata": {},
   "outputs": [
    {
     "data": {
      "text/plain": [
       "[<matplotlib.lines.Line2D at 0x1d14c8d9f90>]"
      ]
     },
     "execution_count": 592,
     "metadata": {},
     "output_type": "execute_result"
    },
    {
     "data": {
      "image/png": "[encoded data removed]",
      "text/plain": [
       "<Figure size 432x288 with 1 Axes>"
      ]
     },
     "metadata": {
      "needs_background": "light"
     },
     "output_type": "display_data"
    }
   ],
   "source": [
    "possible_coefs = np.linspace(0, 20, 11)\n",
    "\n",
    "errors = []\n",
    "for coef in possible_coefs:\n",
    "    projections_dict = playoff_sim(10000, modified_simple_win_percent_model)\n",
    "    yearly_errors, total_error = score_simulation(projections_dict, playoff_bracket, cost=2)\n",
    "    errors.append(total_error)\n",
    "\n",
    "plt.plot(possible_coefs, errors)"
   ]
  },
  {
   "cell_type": "markdown",
   "metadata": {},
   "source": [
    "We see here that using this new evaluation function, many of our model's candidate beta values greatly outperform the baseline model in terms of total error. "
   ]
  },
  {
   "cell_type": "markdown",
   "metadata": {},
   "source": [
    "We have solved the issue of the baseline model being rewarded too much by our evaluation functions. However, a much deeper and more complex problem becomes clear here: how do we really compare the performance of two playoff models and evaluate which one is better when it seems that this depends on our choices in the evaluation function, and how do we decide what the best evaluation function to use is? This problem seems completely intractable: one can justify using certain evaluation functions that seem \"reasonable,\" but this is still a massive issue for evaluating the models that we want to build. \n",
    "\n",
    "The solution to this issue will be expounded upon in a further notebook and involves a very cool method developed by Bill Deere at Fangraphs. This method applies a game theoretic methodology whereby two models are compared by directly competing with each other and attempting to exploit the other model by \"betting\" against the odds the other model comes up with. The process is a little involved, but I believe it is a very promising way to sidestep the issue of evaluation function selection and allow us to truly get a good read on model performance.\n",
    "\n",
    "This notebook has set up a lot of the infrastructure that we are interested in for developing and refining a playoff model for baseball. Through this work, I also discovered many of the interesting problems in developing such a model, from selection of a model generation methodology to the very interesting problems associated with model evaluation. "
   ]
  }
 ],
 "metadata": {
  "interpreter": {
   "hash": "855b59dc1fcb7690d6747194f8a8b1cb52f4d4148238cbce6c5d7a29db3ef306"
  },
  "kernelspec": {
   "display_name": "Python 3.10.4 64-bit (windows store)",
   "language": "python",
   "name": "python3"
  },
  "language_info": {
   "codemirror_mode": {
    "name": "ipython",
    "version": 3
   },
   "file_extension": ".py",
   "mimetype": "text/x-python",
   "name": "python",
   "nbconvert_exporter": "python",
   "pygments_lexer": "ipython3",
   "version": "3.10.4"
  },
  "orig_nbformat": 4
 },
 "nbformat": 4,
 "nbformat_minor": 2
}

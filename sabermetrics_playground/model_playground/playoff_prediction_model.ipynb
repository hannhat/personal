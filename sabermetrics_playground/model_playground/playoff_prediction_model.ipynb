{
 "cells": [
  {
   "cell_type": "markdown",
   "metadata": {},
   "source": [
    "This notebook walks through the process of attempting to build as advanced an MLB playoff predictive model as possible using only team statistics. Though this approach is likely inferior to a more sophisticated model built on the microfoundations of individual player data, it will hopefully both serve as a strong baseline model to compare future models to and be a nice way to practice iterating on a very simple baseline playoff model to add complexity and hopefully improve model performance. "
   ]
  },
  {
   "cell_type": "code",
   "execution_count": 1,
   "metadata": {},
   "outputs": [],
   "source": [
    "import numpy as np\n",
    "import pandas as pd\n",
    "import scipy.stats as stats\n",
    "import seaborn as sns\n",
    "import matplotlib.pyplot as plt\n",
    "from pybaseball import standings\n",
    "from pybaseball import team_batting\n",
    "from pybaseball import team_pitching\n",
    "from pybaseball import retrosheet\n",
    "\n",
    "team_pitching_df = team_pitching(1970,2021)\n",
    "team_batting_df = team_batting(1970,2021)"
   ]
  },
  {
   "cell_type": "markdown",
   "metadata": {},
   "source": [
    "We first implement an extremely simple baseline playoff model that simply takes a two playoff team's winning percentages as an input and uses the simple formula\n",
    "\n",
    "\n",
    "$\\frac{\\text{Team 1 Win \\% + (1 - Team 2 Win \\%)}}{2}$ = Team 1 Projected Win % \n",
    "\n",
    "to compute probabilities on a team winning a given playoff matchup. We then use a Monte Carlo simulation to simulate every playoff bracket from 1968 to 2021 and compute the probability each team has of attaining various outcomes (wins World series, loses in first round, etc.). \n",
    "\n",
    "We then compare the results to the actual outcomes of these playoff brackets. We use the following evaluation model:\n",
    "\n",
    "Error = $\\sum_{teams}\\sum_{outcomes}\\text{(Distance from Outcome)}*|\\text{Actual Outcome - Projected Outcome}|$\n",
    "\n",
    "Here, the actual and projected outcomes are represented by arrays of length equal to the number of possible outcomes a team can have in the playoffs (World Series win, World Series Loss, ALCS loss, etc.). The actual outcomes array is an array of zeroes and a single value of one, which corresponds to the team's ultimate bracket placement. For example, in the 2021 playoff format, since the Braves avoided the Wild Card round, their array would be represented as [Lost in NLDS, Lost in NLCS, Lost in WS, Won WS] = [0,0,0,1]. The projected outcomes array is in the same format as the actual outcomes array, but gives the percentage of time a team ended up with the placement corresponding to the array index as an input for each index. For example, the Braves' 2021 projected outcomes array might have looked something like [45, 22, 9, 4]. \n",
    "\n",
    "The distance from an outcome is defined as the number of 'steps' away from the actual outcome the projected outcome was. For example, if the Tigers were projected to win the World Series but actually lost in the ALCS, the distance between these outcomes would be 2, but if they lost in the World Series, the distance would be 1. "
   ]
  },
  {
   "cell_type": "code",
   "execution_count": 2,
   "metadata": {},
   "outputs": [],
   "source": [
    "team_pitching_df = team_pitching_df.set_index([\"Season\", \"Team\"])"
   ]
  },
  {
   "cell_type": "code",
   "execution_count": 3,
   "metadata": {},
   "outputs": [
    {
     "name": "stdout",
     "output_type": "stream",
     "text": [
      "Season  Team\n",
      "1972    BAL     0.493827\n",
      "        OAK     0.574074\n",
      "1981    HOU     0.376543\n",
      "1972    LAD     0.524691\n",
      "        PIT     0.592593\n",
      "                  ...   \n",
      "2001    TEX     0.450617\n",
      "1995    MIN     0.345679\n",
      "2021    BAL     0.320988\n",
      "1999    COL     0.444444\n",
      "1996    DET     0.327160\n",
      "Name: Win Percentage, Length: 1444, dtype: float64\n"
     ]
    }
   ],
   "source": [
    "team_pitching_df[\"Win Percentage\"] = team_pitching_df[\"W\"] / 162\n",
    "team_df = team_pitching_df[\"Win Percentage\"]\n",
    "print(team_df)"
   ]
  },
  {
   "cell_type": "code",
   "execution_count": 31,
   "metadata": {},
   "outputs": [],
   "source": [
    "world_series = retrosheet.world_series_logs()"
   ]
  },
  {
   "cell_type": "code",
   "execution_count": 45,
   "metadata": {},
   "outputs": [
    {
     "name": "stdout",
     "output_type": "stream",
     "text": [
      "295\n"
     ]
    }
   ],
   "source": [
    "world_series[\"date\"] = [int(''.join(list(str(x))[:4])) for x in world_series[\"date\"]]\n",
    "world_series[\"index\"] = world_series.index\n",
    "ws_modern = world_series[world_series[\"date\"] >= 1970]\n",
    "ws_outcomes = ws_modern[\"date\"].count()\n",
    "\n",
    "print(ws_outcomes)"
   ]
  }
 ],
 "metadata": {
  "interpreter": {
   "hash": "855b59dc1fcb7690d6747194f8a8b1cb52f4d4148238cbce6c5d7a29db3ef306"
  },
  "kernelspec": {
   "display_name": "Python 3.10.4 64-bit (windows store)",
   "language": "python",
   "name": "python3"
  },
  "language_info": {
   "codemirror_mode": {
    "name": "ipython",
    "version": 3
   },
   "file_extension": ".py",
   "mimetype": "text/x-python",
   "name": "python",
   "nbconvert_exporter": "python",
   "pygments_lexer": "ipython3",
   "version": "3.10.4"
  },
  "orig_nbformat": 4
 },
 "nbformat": 4,
 "nbformat_minor": 2
}

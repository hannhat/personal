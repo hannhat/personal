{
 "cells": [
  {
   "cell_type": "code",
   "execution_count": 2,
   "metadata": {},
   "outputs": [],
   "source": [
    "import numpy as np\n",
    "import os\n",
    "from pathlib import Path\n",
    "import pandas as pd\n",
    "import scipy.stats as stats\n",
    "import seaborn as sns\n",
    "import matplotlib.pyplot as plt\n",
    "from pybaseball import standings, team_results\n",
    "from pybaseball import team_batting\n",
    "from pybaseball import team_pitching\n",
    "from pybaseball import retrosheet\n",
    "\n",
    "import utils\n",
    "import json\n",
    "import random\n",
    "\n",
    "import warnings\n",
    "warnings.simplefilter(action='ignore', category=FutureWarning)\n",
    "\n",
    "abspath = os.path.abspath(os.getcwd())\n",
    "finpath = Path(abspath).resolve().parent.parent"
   ]
  },
  {
   "cell_type": "code",
   "execution_count": null,
   "metadata": {},
   "outputs": [],
   "source": [
    "team_data = pd.read_csv(str(finpath) + '/sabermetrics_playground/storage/team_data.csv')\n",
    "team_data['index'] = list(zip(team_data[\"Year\"], team_data[\"Tm\"]))\n",
    "team_data = team_data[[\"index\", \"W-L%\"]]\n",
    "team_data = team_data.set_index('index')\n",
    "team_dict = team_data.to_dict()[\"W-L%\"]\n",
    "\n",
    "with open(str(finpath) + '/sabermetrics_playground/storage/rs_team_mapping.json', 'r') as infile:\n",
    "    symbol_dict = json.load(infile)"
   ]
  },
  {
   "cell_type": "code",
   "execution_count": null,
   "metadata": {},
   "outputs": [],
   "source": [
    "def win_percent_model(team1, team2, year):\n",
    "    p1 = .5 + coef * (team_dict[(year, symbol_dict[team1])] - team_dict[(year, symbol_dict[team2])])\n",
    "    rand_num = random.random()\n",
    "    if rand_num > p1:\n",
    "        return team2\n",
    "    else:\n",
    "        return team1"
   ]
  },
  {
   "cell_type": "code",
   "execution_count": null,
   "metadata": {},
   "outputs": [],
   "source": [
    "# need to write playoff bracket to a json file, will use placeholder for now\n",
    "playoff_bracket = {}\n",
    "\n",
    "projections_dict = utils.playoff_sim(10000, win_percent_model)\n",
    "yearly_errors, total_error = utils.score_simulation(projections_dict, playoff_bracket)"
   ]
  }
 ],
 "metadata": {
  "kernelspec": {
   "display_name": "Python 3.10.4 64-bit (windows store)",
   "language": "python",
   "name": "python3"
  },
  "language_info": {
   "codemirror_mode": {
    "name": "ipython",
    "version": 3
   },
   "file_extension": ".py",
   "mimetype": "text/x-python",
   "name": "python",
   "nbconvert_exporter": "python",
   "pygments_lexer": "ipython3",
   "version": "3.10.8"
  },
  "orig_nbformat": 4,
  "vscode": {
   "interpreter": {
    "hash": "855b59dc1fcb7690d6747194f8a8b1cb52f4d4148238cbce6c5d7a29db3ef306"
   }
  }
 },
 "nbformat": 4,
 "nbformat_minor": 2
}

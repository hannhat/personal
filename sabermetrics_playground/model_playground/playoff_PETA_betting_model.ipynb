{
 "cells": [
  {
   "cell_type": "code",
   "execution_count": 1,
   "metadata": {},
   "outputs": [],
   "source": [
    "import numpy as np\n",
    "import os\n",
    "from pathlib import Path\n",
    "import pandas as pd\n",
    "import scipy.stats as stats\n",
    "import seaborn as sns\n",
    "import matplotlib.pyplot as plt\n",
    "from pybaseball import standings, team_results\n",
    "from pybaseball import team_batting\n",
    "from pybaseball import team_pitching\n",
    "from pybaseball import retrosheet\n",
    "\n",
    "import utils\n",
    "import json\n",
    "import random\n",
    "\n",
    "import warnings\n",
    "warnings.simplefilter(action='ignore', category=FutureWarning)\n",
    "\n",
    "abspath = os.path.abspath(os.getcwd())\n",
    "finpath = Path(abspath).resolve().parent.parent"
   ]
  },
  {
   "cell_type": "code",
   "execution_count": 2,
   "metadata": {},
   "outputs": [],
   "source": [
    "team_data = pd.read_csv(str(finpath) + '/sabermetrics_playground/storage/team_data.csv')\n",
    "team_data['index'] = list(zip(team_data[\"Year\"], team_data[\"Tm\"]))\n",
    "team_data = team_data[[\"index\", \"W-L%\"]]\n",
    "team_data = team_data.set_index('index')\n",
    "team_dict = team_data.to_dict()[\"W-L%\"]\n",
    "\n",
    "with open(str(finpath) + '/sabermetrics_playground/storage/rs_team_mapping.json', 'r') as infile:\n",
    "    symbol_dict = json.load(infile)"
   ]
  },
  {
   "cell_type": "code",
   "execution_count": 3,
   "metadata": {},
   "outputs": [],
   "source": [
    "def win_percent_model(team1, team2, year):\n",
    "    p1 = .5 + coef * (team_dict[(year, symbol_dict[team1])] - team_dict[(year, symbol_dict[team2])])\n",
    "    rand_num = random.random()\n",
    "    if rand_num > p1:\n",
    "        return team2\n",
    "    else:\n",
    "        return team1"
   ]
  },
  {
   "cell_type": "code",
   "execution_count": 8,
   "metadata": {},
   "outputs": [
    {
     "ename": "NameError",
     "evalue": "name 'playoff_teams' is not defined",
     "output_type": "error",
     "traceback": [
      "\u001b[1;31m---------------------------------------------------------------------------\u001b[0m",
      "\u001b[1;31mNameError\u001b[0m                                 Traceback (most recent call last)",
      "\u001b[1;32mc:\\Users\\19175\\Documents\\personal\\sabermetrics_playground\\model_playground\\playoff_PETA_betting_model.ipynb Cell 4'\u001b[0m in \u001b[0;36m<cell line: 3>\u001b[1;34m()\u001b[0m\n\u001b[0;32m      <a href='vscode-notebook-cell:/c%3A/Users/19175/Documents/personal/sabermetrics_playground/model_playground/playoff_PETA_betting_model.ipynb#ch0000003?line=0'>1</a>\u001b[0m \u001b[39m# need to write playoff bracket to a json file, will use placeholder for now\u001b[39;00m\n\u001b[1;32m----> <a href='vscode-notebook-cell:/c%3A/Users/19175/Documents/personal/sabermetrics_playground/model_playground/playoff_PETA_betting_model.ipynb#ch0000003?line=2'>3</a>\u001b[0m projections_dict \u001b[39m=\u001b[39m utils\u001b[39m.\u001b[39;49mplayoff_sim(\u001b[39m10000\u001b[39;49m, win_percent_model)\n\u001b[0;32m      <a href='vscode-notebook-cell:/c%3A/Users/19175/Documents/personal/sabermetrics_playground/model_playground/playoff_PETA_betting_model.ipynb#ch0000003?line=3'>4</a>\u001b[0m yearly_errors, total_error \u001b[39m=\u001b[39m utils\u001b[39m.\u001b[39mscore_simulation(projections_dict, playoff_bracket)\n",
      "File \u001b[1;32mc:\\Users\\19175\\Documents\\personal\\sabermetrics_playground\\model_playground\\utils.py:97\u001b[0m, in \u001b[0;36mplayoff_sim\u001b[1;34m(trials, func, year_start, year_end)\u001b[0m\n\u001b[0;32m     95\u001b[0m \u001b[39mfor\u001b[39;00m year \u001b[39min\u001b[39;00m \u001b[39mrange\u001b[39m(year_start, year_end \u001b[39m+\u001b[39m \u001b[39m1\u001b[39m):\n\u001b[0;32m     96\u001b[0m     \u001b[39mif\u001b[39;00m year \u001b[39m!=\u001b[39m \u001b[39m1994\u001b[39m:\n\u001b[1;32m---> 97\u001b[0m         teams_lst \u001b[39m=\u001b[39m playoff_teams[year]\n\u001b[0;32m     98\u001b[0m         bracket \u001b[39m=\u001b[39m Tournament(teams_lst)\n\u001b[0;32m     99\u001b[0m         bracket\u001b[39m.\u001b[39msimulate_playoffs(func, year)\n",
      "\u001b[1;31mNameError\u001b[0m: name 'playoff_teams' is not defined"
     ]
    },
    {
     "ename": "",
     "evalue": "",
     "output_type": "error",
     "traceback": [
      "\u001b[1;31mThe Kernel crashed while executing code in the the current cell or a previous cell. Please review the code in the cell(s) to identify a possible cause of the failure. Click <a href='https://aka.ms/vscodeJupyterKernelCrash'>here</a> for more info. View Jupyter <a href='command:jupyter.viewOutput'>log</a> for further details."
     ]
    }
   ],
   "source": [
    "# need to write playoff bracket to a json file, will use placeholder for now\n",
    "\n",
    "projections_dict = utils.playoff_sim(10000, win_percent_model)\n",
    "yearly_errors, total_error = utils.score_simulation(projections_dict, playoff_bracket)"
   ]
  }
 ],
 "metadata": {
  "kernelspec": {
   "display_name": "Python 3.10.4 64-bit (windows store)",
   "language": "python",
   "name": "python3"
  },
  "language_info": {
   "codemirror_mode": {
    "name": "ipython",
    "version": 3
   },
   "file_extension": ".py",
   "mimetype": "text/x-python",
   "name": "python",
   "nbconvert_exporter": "python",
   "pygments_lexer": "ipython3",
   "version": "3.10.8"
  },
  "orig_nbformat": 4,
  "vscode": {
   "interpreter": {
    "hash": "855b59dc1fcb7690d6747194f8a8b1cb52f4d4148238cbce6c5d7a29db3ef306"
   }
  }
 },
 "nbformat": 4,
 "nbformat_minor": 2
}

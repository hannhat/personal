{
 "cells": [
  {
   "cell_type": "code",
   "execution_count": 2,
   "metadata": {},
   "outputs": [],
   "source": [
    "import numpy as np\n",
    "import scipy.stats\n",
    "import matplotlib.pyplot as plt\n",
    "import numpy.linalg as la"
   ]
  },
  {
   "cell_type": "code",
   "execution_count": 48,
   "metadata": {},
   "outputs": [
    {
     "name": "stdout",
     "output_type": "stream",
     "text": [
      "[0.12610351 0.15369894]\n",
      "[0.00102121 0.00177799]\n",
      "0.9434\n"
     ]
    }
   ],
   "source": [
    "# 1.1 - 1.3\n",
    "\n",
    "seed = 1\n",
    "\n",
    "X_mean = np.array([0]*10)\n",
    "X_1 = np.array([[0.2]*10]*10)\n",
    "X_2 = np.identity(10)*0.8\n",
    "X_cov = X_1 + X_2\n",
    "\n",
    "X_distr = scipy.stats.multivariate_normal(cov = X_cov, mean = X_mean, seed = seed)\n",
    "\n",
    "B = np.asarray([[0.12], [0.16], [0], [0], [0], [0], [0], [0], [0], [0]])\n",
    "\n",
    "error_mean = 0\n",
    "error_var = 1\n",
    "error_distr = scipy.stats.norm(loc = error_mean, scale = np.sqrt(error_var))\n",
    "\n",
    "sample_betas = []\n",
    "reg_lst = []\n",
    "for s in range(5000):\n",
    "    X = X_distr.rvs(size=1000)\n",
    "    error = np.vstack(error_distr.rvs(size=1000))\n",
    "    y = (X @ B) + error\n",
    "    best_beta = None\n",
    "    best_reg = None\n",
    "    best_R2 = 0\n",
    "    for i in range(0,10):\n",
    "        for j in range(i+1,10):\n",
    "            X_sub = X[:, [i,j]]\n",
    "            sample_beta = la.inv(X_sub.T @ X_sub) @ X_sub.T @ y\n",
    "            y_predicted = (X_sub @ sample_beta)\n",
    "            R2 = scipy.stats.pearsonr(y.flatten(), y_predicted.flatten())[0]\n",
    "            if R2 > best_R2:\n",
    "                best_R2 = R2\n",
    "                best_beta = sample_beta\n",
    "                best_reg = [i + 1, j + 1]\n",
    "    sample_betas.append(best_beta.flatten())\n",
    "    reg_lst.append(best_reg)\n",
    "beta_array = np.vstack(sample_betas)\n",
    "print(beta_array.mean(axis=0))\n",
    "print(beta_array.var(axis=0))\n",
    "x = [0 for f in reg_lst if f == [1, 2]]\n",
    "print(len(x)/5000)\n",
    "            \n",
    "            \n",
    "                "
   ]
  },
  {
   "cell_type": "code",
   "execution_count": 50,
   "metadata": {},
   "outputs": [
    {
     "name": "stdout",
     "output_type": "stream",
     "text": [
      "[[ 0.11567049  0.09762534 -0.01791362 ... -0.04090739 -0.01678223\n",
      "   0.03917239]\n",
      " [ 0.10907403  0.09071247 -0.01155356 ... -0.03402461 -0.00992451\n",
      "   0.03321934]\n",
      " [ 0.10233429  0.08359016 -0.00544853 ... -0.02752978 -0.00329253\n",
      "   0.02713608]\n",
      " ...\n",
      " [ 0.          0.          0.         ...  0.          0.\n",
      "   0.        ]\n",
      " [ 0.          0.          0.         ...  0.          0.\n",
      "   0.        ]\n",
      " [ 0.          0.          0.         ...  0.          0.\n",
      "   0.        ]]\n"
     ]
    }
   ],
   "source": [
    "# 1.4 - 1.5\n",
    "\n",
    "\n",
    "# From TA session:\n",
    "\n",
    "#Coordinate Descent \n",
    "maxiter = 100\n",
    "num_lambda = 200\n",
    "sum_of_x = 1000\n",
    "p = 10\n",
    "\n",
    "lambda_vec = np.linspace(0.001,1,num_lambda)\n",
    "\n",
    "X = X_distr.rvs(size=1000)\n",
    "error = np.vstack(error_distr.rvs(size=1000))\n",
    "y = (X @ B) + error\n",
    "\n",
    "#Results Holder\n",
    "beta_cd = np.zeros((num_lambda,p))\n",
    "\n",
    "for l in range(len(lambda_vec)):\n",
    "    b_lasso = np.zeros((p,1))\n",
    "    res = y - X@b_lasso\n",
    "    for s in range(maxiter):\n",
    "        for v in range(p):\n",
    "            #Create Y - \\sum_{not v} X_i b\n",
    "            res = res + X[:,v].reshape(-1,1)*b_lasso[v]\n",
    "\n",
    "            #update b lasso \n",
    "            b_ols = (X[:,v]@res)/sum_of_x\n",
    "            shrinkage = np.abs(b_ols) - lambda_vec[l]\n",
    "            b_lasso[v] = np.sign(b_ols)*np.maximum(0,shrinkage)\n",
    "\n",
    "            #Update residual\n",
    "            res = res - X[:,v].reshape(-1,1)*b_lasso[v]\n",
    "    beta_cd[l,:] = b_lasso.T\n",
    "print(beta_cd)"
   ]
  },
  {
   "cell_type": "code",
   "execution_count": 54,
   "metadata": {},
   "outputs": [
    {
     "name": "stdout",
     "output_type": "stream",
     "text": [
      "0.7636\n"
     ]
    }
   ],
   "source": [
    "# 1.6\n",
    "\n",
    "\n",
    "# From TA session:\n",
    "\n",
    "#Coordinate Descent\n",
    "num_lambda = 200\n",
    "maxiter = 100\n",
    "sum_of_x = 1000\n",
    "p = 10\n",
    "\n",
    "lambda_vec = np.linspace(0.001,1,num_lambda)\n",
    "\n",
    "correct_count = 0\n",
    "\n",
    "for s in range(5000):\n",
    "    X = X_distr.rvs(size=1000)\n",
    "    error = np.vstack(error_distr.rvs(size=1000))\n",
    "    y = (X @ B) + error\n",
    "    lambda_vec = 0.001\n",
    "    b_lasso = np.ones((p,1))\n",
    "    while np.count_nonzero(b_lasso.T) > 2:\n",
    "        b_lasso = np.zeros((p,1))\n",
    "        res = y - X@b_lasso\n",
    "        for s in range(maxiter):\n",
    "            for v in range(p):\n",
    "                #Create Y - \\sum_{not v} X_i b\n",
    "                res = res + X[:,v].reshape(-1,1)*b_lasso[v]\n",
    "\n",
    "                #update b lasso \n",
    "                b_ols = (X[:,v]@res)/sum_of_x\n",
    "                shrinkage = np.abs(b_ols) - lambda_vec\n",
    "                b_lasso[v] = np.sign(b_ols)*np.maximum(0,shrinkage)\n",
    "\n",
    "                #Update residual\n",
    "                res = res - X[:,v].reshape(-1,1)*b_lasso[v]\n",
    "            lambda_vec += 0.001\n",
    "    if (np.abs(b_lasso.flatten()[0]) != 0) and (np.abs(b_lasso.flatten()[1]) != 0):\n",
    "        correct_count += 1\n",
    "print(correct_count / 5000)"
   ]
  },
  {
   "cell_type": "code",
   "execution_count": 59,
   "metadata": {},
   "outputs": [
    {
     "ename": "KeyboardInterrupt",
     "evalue": "",
     "output_type": "error",
     "traceback": [
      "\u001b[1;31m---------------------------------------------------------------------------\u001b[0m",
      "\u001b[1;31mKeyboardInterrupt\u001b[0m                         Traceback (most recent call last)",
      "\u001b[1;32mc:\\Users\\19175\\Documents\\personal\\coursework\\HW2.ipynb Cell 5'\u001b[0m in \u001b[0;36m<cell line: 19>\u001b[1;34m()\u001b[0m\n\u001b[0;32m     <a href='vscode-notebook-cell:/c%3A/Users/19175/Documents/personal/coursework/HW2.ipynb#ch0000007?line=25'>26</a>\u001b[0m             y_lst\u001b[39m.\u001b[39mappend(\u001b[39m1\u001b[39m)\n\u001b[0;32m     <a href='vscode-notebook-cell:/c%3A/Users/19175/Documents/personal/coursework/HW2.ipynb#ch0000007?line=26'>27</a>\u001b[0m         \u001b[39melse\u001b[39;00m:\n\u001b[1;32m---> <a href='vscode-notebook-cell:/c%3A/Users/19175/Documents/personal/coursework/HW2.ipynb#ch0000007?line=27'>28</a>\u001b[0m             y_lst\u001b[39m.\u001b[39;49mappend(\u001b[39m0\u001b[39;49m)\n\u001b[0;32m     <a href='vscode-notebook-cell:/c%3A/Users/19175/Documents/personal/coursework/HW2.ipynb#ch0000007?line=28'>29</a>\u001b[0m     \u001b[39m'''\u001b[39;00m\n\u001b[0;32m     <a href='vscode-notebook-cell:/c%3A/Users/19175/Documents/personal/coursework/HW2.ipynb#ch0000007?line=29'>30</a>\u001b[0m \u001b[39m    best_beta = None\u001b[39;00m\n\u001b[0;32m     <a href='vscode-notebook-cell:/c%3A/Users/19175/Documents/personal/coursework/HW2.ipynb#ch0000007?line=30'>31</a>\u001b[0m \u001b[39m    best_reg = None\u001b[39;00m\n\u001b[1;32m   (...)\u001b[0m\n\u001b[0;32m     <a href='vscode-notebook-cell:/c%3A/Users/19175/Documents/personal/coursework/HW2.ipynb#ch0000007?line=48'>49</a>\u001b[0m \u001b[39mprint(len(x)/5000)\u001b[39;00m\n\u001b[0;32m     <a href='vscode-notebook-cell:/c%3A/Users/19175/Documents/personal/coursework/HW2.ipynb#ch0000007?line=49'>50</a>\u001b[0m \u001b[39m'''\u001b[39;00m\n\u001b[0;32m     <a href='vscode-notebook-cell:/c%3A/Users/19175/Documents/personal/coursework/HW2.ipynb#ch0000007?line=50'>51</a>\u001b[0m \u001b[39mprint\u001b[39m(y)\n",
      "\u001b[1;31mKeyboardInterrupt\u001b[0m: "
     ]
    }
   ],
   "source": [
    "# 2.1\n",
    "\n",
    "seed = 1\n",
    "\n",
    "X_mean = np.array([0]*100)\n",
    "X_1 = np.array([[0.2]*100]*100)\n",
    "X_2 = np.identity(100)*0.8\n",
    "X_cov = X_1 + X_2\n",
    "\n",
    "X_distr = scipy.stats.multivariate_normal(cov = X_cov, mean = X_mean, seed = seed)\n",
    "\n",
    "B_lst = [0.3]*5 + [0]*95\n",
    "B = np.asarray(B_lst).T\n",
    "\n",
    "error_distr = scipy.stats.logistic()\n",
    "\n",
    "sample_betas = []\n",
    "reg_lst = []\n",
    "for s in range(5000):\n",
    "    X = X_distr.rvs(size=1000)\n",
    "    error = np.vstack(error_distr.rvs(size=1000))\n",
    "    indic_arr = (X @ B + error).flatten()\n",
    "    y_lst = [np.sign(x) for x in indic_arr]\n",
    "    print(y_lst)\n",
    "\n",
    "    '''\n",
    "    best_beta = None\n",
    "    best_reg = None\n",
    "    best_R2 = 0\n",
    "    for i in range(0,10):\n",
    "        for j in range(i+1,10):\n",
    "            X_sub = X[:, [i,j]]\n",
    "            sample_beta = la.inv(X_sub.T @ X_sub) @ X_sub.T @ y\n",
    "            y_predicted = (X_sub @ sample_beta)\n",
    "            R2 = scipy.stats.pearsonr(y.flatten(), y_predicted.flatten())[0]\n",
    "            if R2 > best_R2:\n",
    "                best_R2 = R2\n",
    "                best_beta = sample_beta\n",
    "                best_reg = [i + 1, j + 1]\n",
    "    sample_betas.append(best_beta.flatten())\n",
    "    reg_lst.append(best_reg)\n",
    "beta_array = np.vstack(sample_betas)\n",
    "print(beta_array.mean(axis=0))\n",
    "print(beta_array.var(axis=0))\n",
    "x = [0 for f in reg_lst if f == [1, 2]]\n",
    "print(len(x)/5000)\n",
    "'''\n",
    "print(y)"
   ]
  }
 ],
 "metadata": {
  "interpreter": {
   "hash": "2c6d6a9e93076adb90d53d13c01a2b6041a886a35abfdc786ec1df2b4b142e51"
  },
  "kernelspec": {
   "display_name": "Python 3.10.4 64-bit (windows store)",
   "language": "python",
   "name": "python3"
  },
  "language_info": {
   "codemirror_mode": {
    "name": "ipython",
    "version": 3
   },
   "file_extension": ".py",
   "mimetype": "text/x-python",
   "name": "python",
   "nbconvert_exporter": "python",
   "pygments_lexer": "ipython3",
   "version": "3.10.4"
  },
  "orig_nbformat": 4
 },
 "nbformat": 4,
 "nbformat_minor": 2
}

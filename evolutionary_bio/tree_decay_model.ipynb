{
 "cells": [
  {
   "cell_type": "code",
   "execution_count": 227,
   "metadata": {},
   "outputs": [],
   "source": [
    "import statsmodels.api as sm\n",
    "import numpy as np\n",
    "import matplotlib.pyplot as plt\n",
    "import matplotlib as mpl\n",
    "from matplotlib.animation import FuncAnimation\n",
    "from scipy.stats import norm\n",
    "from scipy.stats import poisson\n",
    "from scipy.stats import expon\n",
    "import random\n",
    "import simpy"
   ]
  },
  {
   "cell_type": "code",
   "execution_count": 231,
   "metadata": {},
   "outputs": [],
   "source": [
    "class Tree(object):\n",
    "    '''Generic tree node.'''\n",
    "    def __init__(self):\n",
    "        self.decay_rate = None\n",
    "        self.decay = 0\n",
    "        if self.decay == 0:\n",
    "            self.next_decay_time = 100000000\n",
    "        else:\n",
    "            self.next_decay_time = np.random.exponential(1/self.decay_rate)\n",
    "        self.children = []\n",
    "        self.parent = False\n",
    "        self.decay_multiplier = 1\n",
    "    def add_child(self, node):\n",
    "        node.parent = True\n",
    "        node.decay_rate = 0\n",
    "        node.decay_multiplier = 0.5 + random.random() / 2\n",
    "        self.children.append(node)"
   ]
  },
  {
   "cell_type": "code",
   "execution_count": 234,
   "metadata": {},
   "outputs": [],
   "source": [
    "def generate_tree(tree, lamb, depth, spread):\n",
    "    if tree.parent == True:\n",
    "        tree.decay_rate = lamb\n",
    "    else:\n",
    "        tree.decay_rate = 0\n",
    "    num_children = random.randint(1,spread)\n",
    "    if depth > 0:\n",
    "        for _ in range(num_children):\n",
    "            tree.add_child(Tree())\n",
    "        for child in tree.children:\n",
    "            child = generate_tree(child, lamb, depth - 1, spread)\n",
    "    return tree\n",
    "\n",
    "def update_node(tree):\n",
    "    \n",
    "\n",
    "def simulate():\n",
    "    pass"
   ]
  },
  {
   "cell_type": "code",
   "execution_count": 260,
   "metadata": {},
   "outputs": [
    {
     "data": {
      "text/plain": [
       "0.9173383560049402"
      ]
     },
     "execution_count": 260,
     "metadata": {},
     "output_type": "execute_result"
    }
   ],
   "source": [
    "a = generate_tree(Tree(), 4, 5, 6)\n",
    "a.children[0].children[0].decay_multiplier"
   ]
  },
  {
   "cell_type": "code",
   "execution_count": null,
   "metadata": {},
   "outputs": [],
   "source": [
    "env = simpy.Environment()"
   ]
  }
 ],
 "metadata": {
  "kernelspec": {
   "display_name": "Python 3.10.4 64-bit (windows store)",
   "language": "python",
   "name": "python3"
  },
  "language_info": {
   "codemirror_mode": {
    "name": "ipython",
    "version": 3
   },
   "file_extension": ".py",
   "mimetype": "text/x-python",
   "name": "python",
   "nbconvert_exporter": "python",
   "pygments_lexer": "ipython3",
   "version": "3.10.5"
  },
  "orig_nbformat": 4,
  "vscode": {
   "interpreter": {
    "hash": "855b59dc1fcb7690d6747194f8a8b1cb52f4d4148238cbce6c5d7a29db3ef306"
   }
  }
 },
 "nbformat": 4,
 "nbformat_minor": 2
}

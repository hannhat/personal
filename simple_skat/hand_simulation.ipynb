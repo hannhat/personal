{
 "cells": [
  {
   "cell_type": "code",
   "execution_count": 7,
   "metadata": {},
   "outputs": [],
   "source": [
    "import random\n",
    "import matplotlib.pyplot as plt\n",
    "import numpy as np"
   ]
  },
  {
   "cell_type": "code",
   "execution_count": 3,
   "metadata": {},
   "outputs": [],
   "source": [
    "CARDS = [('9', 'd'), ('10', 'd'), ('J', 'd'), ('Q', 'd'), ('K', 'd'), ('A', 'd'),\n",
    "         ('9', 'h'), ('10', 'h'), ('J', 'h'), ('Q', 'h'), ('K', 'h'), ('A', 'h'),\n",
    "         ('9', 's'), ('10', 's'), ('J', 's'), ('Q', 's'), ('K', 's'), ('A', 's'),\n",
    "         ('9', 'c'), ('10', 'c'), ('J', 'c'), ('Q', 'c'), ('K', 'c'), ('A', 'c')]"
   ]
  },
  {
   "cell_type": "code",
   "execution_count": 4,
   "metadata": {},
   "outputs": [],
   "source": [
    "def derive_hand_stats(hand):\n",
    "    suit_prevalence = {'d' : 0, 'h' : 0, 's' : 0, 'c' : 0}\n",
    "    num_jacks = 0\n",
    "    for card in hand:\n",
    "        suit_prevalence[card[1]] += 1\n",
    "        if card[0] == 'J':\n",
    "            num_jacks += 1\n",
    "    return max(suit_prevalence.values()), num_jacks\n",
    "\n",
    "def deal_cards():\n",
    "    hands = CARDS\n",
    "    random.shuffle(hands)\n",
    "\n",
    "    hand_lst = [hands[x:x+8] for x in range(0, len(hands), 8)]\n",
    "\n",
    "    max_trumps = 0\n",
    "    num_max_suits = []\n",
    "    for hand in hand_lst:\n",
    "        max_suit, num_jacks = derive_hand_stats(hand)\n",
    "        trumps = max_suit + num_jacks\n",
    "        if trumps > max_trumps:\n",
    "            max_trumps = trumps\n",
    "        num_max_suits.append(max_suit)\n",
    "    return max_trumps, num_max_suits\n",
    "\n",
    "def monte_carlo(iterations):\n",
    "    max_trumps_arr = []\n",
    "    num_max_suit_arr = []\n",
    "    for _ in range(iterations):\n",
    "        max_trumps, num_max_suits = deal_cards()\n",
    "        max_trumps_arr += [max_trumps]\n",
    "        num_max_suit_arr += num_max_suits\n",
    "    return max_trumps_arr, num_max_suit_arr"
   ]
  },
  {
   "cell_type": "code",
   "execution_count": 5,
   "metadata": {},
   "outputs": [],
   "source": [
    "max_trumps_arr, num_max_suit_arr = monte_carlo(100000)"
   ]
  },
  {
   "cell_type": "code",
   "execution_count": 12,
   "metadata": {},
   "outputs": [
    {
     "data": {
      "image/png": "[encoded data removed]",
      "text/plain": [
       "<Figure size 432x288 with 1 Axes>"
      ]
     },
     "metadata": {
      "needs_background": "light"
     },
     "output_type": "display_data"
    }
   ],
   "source": [
    "data = range(11)\n",
    "data = np.array(max_trumps_arr)\n",
    "\n",
    "d = np.diff(np.unique(data)).min()\n",
    "left_of_first_bin = data.min() - float(d)/2\n",
    "right_of_last_bin = data.max() + float(d)/2\n",
    "plt.hist(data, np.arange(left_of_first_bin, right_of_last_bin + d, d), rwidth=0.5)\n",
    "plt.show()"
   ]
  },
  {
   "cell_type": "code",
   "execution_count": 13,
   "metadata": {},
   "outputs": [
    {
     "data": {
      "image/png": "[encoded data removed]",
      "text/plain": [
       "<Figure size 432x288 with 1 Axes>"
      ]
     },
     "metadata": {
      "needs_background": "light"
     },
     "output_type": "display_data"
    }
   ],
   "source": [
    "data2 = range(11)\n",
    "data2 = np.array(num_max_suit_arr)\n",
    "\n",
    "d2 = np.diff(np.unique(data2)).min()\n",
    "left_of_first_bin2 = data2.min() - float(d2)/2\n",
    "right_of_last_bin2 = data2.max() + float(d2)/2\n",
    "plt.hist(data2, np.arange(left_of_first_bin2, right_of_last_bin2 + d2, d2), rwidth=0.5)\n",
    "plt.show()"
   ]
  },
  {
   "cell_type": "code",
   "execution_count": 15,
   "metadata": {},
   "outputs": [
    {
     "name": "stdout",
     "output_type": "stream",
     "text": [
      "4.56714\n"
     ]
    }
   ],
   "source": [
    "average_trumps = np.mean(num_max_suit_arr) + 4/3\n",
    "print(average_trumps)"
   ]
  }
 ],
 "metadata": {
  "kernelspec": {
   "display_name": "Python 3.10.8 64-bit (microsoft store)",
   "language": "python",
   "name": "python3"
  },
  "language_info": {
   "codemirror_mode": {
    "name": "ipython",
    "version": 3
   },
   "file_extension": ".py",
   "mimetype": "text/x-python",
   "name": "python",
   "nbconvert_exporter": "python",
   "pygments_lexer": "ipython3",
   "version": "3.10.8"
  },
  "orig_nbformat": 4,
  "vscode": {
   "interpreter": {
    "hash": "855b59dc1fcb7690d6747194f8a8b1cb52f4d4148238cbce6c5d7a29db3ef306"
   }
  }
 },
 "nbformat": 4,
 "nbformat_minor": 2
}
